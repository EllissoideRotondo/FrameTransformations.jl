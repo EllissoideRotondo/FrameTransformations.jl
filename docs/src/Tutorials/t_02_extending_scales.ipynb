{
 "cells": [
  {
   "attachments": {},
   "cell_type": "markdown",
   "metadata": {},
   "source": [
    "# [Timescales graphs and extensions](@id tutorial_02_scales)"
   ]
  },
  {
   "attachments": {},
   "cell_type": "markdown",
   "metadata": {},
   "source": [
    "In `Basic`, timescales are connected each other via a **directed graph**. Thanks to the \n",
    "structure of the `Tempo` module, it is possible to either extend the current graph of \n",
    "scales or create a completely custom one. Both of this possibilities are the subject of \n",
    "this tutorial."
   ]
  },
  {
   "cell_type": "code",
   "execution_count": 28,
   "metadata": {},
   "outputs": [],
   "source": [
    "using Basic.Tempo"
   ]
  },
  {
   "attachments": {},
   "cell_type": "markdown",
   "metadata": {},
   "source": [
    "## Create a timescales graph\n",
    "\n",
    "To create a computational directed graph to handle timescales, `Basic` provides the `TimeSystem`\n",
    "type. Therefore, let us define a new time transformation system called `TIMETRANSF`:"
   ]
  },
  {
   "cell_type": "code",
   "execution_count": 2,
   "metadata": {},
   "outputs": [
    {
     "data": {
      "text/plain": [
       "TimeSystem{Float64}(Basic.MappedGraphs.MappedNodeGraph{Basic.Tempo.TimeScaleNode{Float64}, Graphs.SimpleGraphs.SimpleDiGraph{Int64}}(Graphs.SimpleGraphs.SimpleDiGraph{Int64}(0, Vector{Int64}[], Vector{Int64}[]), Dict{Int64, Int64}(), Basic.Tempo.TimeScaleNode{Float64}[], Dict{Int64, Dict{Int64, Vector{Int64}}}(), Dict{Int64, Dict{Int64, Int64}}()))"
      ]
     },
     "metadata": {},
     "output_type": "display_data"
    }
   ],
   "source": [
    "const TIMETRANSF = TimeSystem{Float64}()"
   ]
  },
  {
   "attachments": {},
   "cell_type": "markdown",
   "metadata": {},
   "source": [
    "This object contains a graph and the properties associated to the new time-system defined in\n",
    "`TIMETRANSF`. Note that the computational graph at the moment is empty, thus, we need to \n",
    "manually populate it with the new transformations."
   ]
  },
  {
   "attachments": {},
   "cell_type": "markdown",
   "metadata": {},
   "source": [
    "## Create a new timescale"
   ]
  },
  {
   "attachments": {},
   "cell_type": "markdown",
   "metadata": {},
   "source": [
    "In order to insert a new timescale to the graph, a new timescale type alias shall be defined.\n",
    "This can be easily done via the macro `@timescale`. This step requires 3 elements:\n",
    "- The timescale acronym (user-defined).\n",
    "- The timescale index (it is an `Int` used to uniquely represent the timescale).\n",
    "- The timescale fullname."
   ]
  },
  {
   "cell_type": "code",
   "execution_count": 3,
   "metadata": {},
   "outputs": [],
   "source": [
    "@timescale DTS 1 DefaultTimeScale"
   ]
  },
  {
   "attachments": {},
   "cell_type": "markdown",
   "metadata": {},
   "source": [
    "## Register the new timescale"
   ]
  },
  {
   "attachments": {},
   "cell_type": "markdown",
   "metadata": {},
   "source": [
    "Once, created, the new timescale is ready to be registered. If it is the first scale registered\n",
    "in the computational graph, than, nothing else than the type alias is needed and the \n",
    "registration can be performed as follows:"
   ]
  },
  {
   "cell_type": "code",
   "execution_count": 4,
   "metadata": {},
   "outputs": [],
   "source": [
    "add_timescale(TIMETRANSF, DTS)"
   ]
  },
  {
   "cell_type": "code",
   "execution_count": 5,
   "metadata": {},
   "outputs": [
    {
     "data": {
      "text/plain": [
       "1-element Vector{Basic.Tempo.TimeScaleNode{Float64}}:\n",
       " TimeScaleNode{Float64}(name=DTS, id=1)\n"
      ]
     },
     "metadata": {},
     "output_type": "display_data"
    }
   ],
   "source": [
    "TIMETRANSF.scales.nodes"
   ]
  },
  {
   "attachments": {},
   "cell_type": "markdown",
   "metadata": {},
   "source": [
    "Instead, in case the timescale is linked to a parent one, an offset function shall be defined.\n",
    "Remember that the computational graph is **directed**, i.e. the transformation to go back and \n",
    "forth to the parent shall be defined if two-way transformations are desired.\n",
    "\n",
    "In this example, assume we want to register timescale `NTSA` and a timescale `NTSB`. \n",
    "`NTSA` has `DTS` as parent and a constant offset of 1 second. `NTSB` has `NTSA` has parent \n",
    "and a linear offset with slope of 1/86400.\n",
    "\n",
    "Then, first create the new scales:"
   ]
  },
  {
   "cell_type": "code",
   "execution_count": 6,
   "metadata": {},
   "outputs": [],
   "source": [
    "@timescale NTSA 2 NewTimeScaleA\n",
    "@timescale NTSB 3 NewTimeScaleB"
   ]
  },
  {
   "attachments": {},
   "cell_type": "markdown",
   "metadata": {},
   "source": [
    "Now, let us define the offset functions for `NTSA`:"
   ]
  },
  {
   "cell_type": "code",
   "execution_count": 7,
   "metadata": {},
   "outputs": [],
   "source": [
    "const OFFSET_DTS_TO_NTSA = 1.0\n",
    "@inline offset_dts2ntsa(sec::Number) = OFFSET_DTS_TO_NTSA\n",
    "@inline offset_ntsa2dts(sec::Number) = -OFFSET_DTS_TO_NTSA;"
   ]
  },
  {
   "attachments": {},
   "cell_type": "markdown",
   "metadata": {},
   "source": [
    "We can now register `NTSA` to the computational graph using the `add_timescale` method:"
   ]
  },
  {
   "cell_type": "code",
   "execution_count": 8,
   "metadata": {},
   "outputs": [],
   "source": [
    "add_timescale(TIMETRANSF, NTSA, offset_dts2ntsa, parent=DTS, ftp=offset_ntsa2dts)"
   ]
  },
  {
   "attachments": {},
   "cell_type": "markdown",
   "metadata": {},
   "source": [
    "Now, if we have a look to the computational graph, we'll se that `NTSA` is registered:"
   ]
  },
  {
   "cell_type": "code",
   "execution_count": 9,
   "metadata": {},
   "outputs": [
    {
     "data": {
      "text/plain": [
       "2-element Vector{Basic.Tempo.TimeScaleNode{Float64}}:\n",
       " TimeScaleNode{Float64}(name=DTS, id=1)\n",
       "\n",
       " TimeScaleNode{Float64}(name=NTSA, id=2, parent=1)\n"
      ]
     },
     "metadata": {},
     "output_type": "display_data"
    }
   ],
   "source": [
    "TIMETRANSF.scales.nodes"
   ]
  },
  {
   "attachments": {},
   "cell_type": "markdown",
   "metadata": {},
   "source": [
    "As well as, since we have registered both direct and inverse transformations, there is the \n",
    "possibility to transform back and forth from `NTSA` to `DTS`. We can easily see this looking\n",
    "at the `paths` contained in the computational graph. Here the timescale are represented by means\n",
    "of the type-alias unique integer assigned during the creation of the new type. "
   ]
  },
  {
   "cell_type": "code",
   "execution_count": 10,
   "metadata": {},
   "outputs": [
    {
     "data": {
      "text/plain": [
       "Dict{Int64, Dict{Int64, Vector{Int64}}} with 2 entries:\n",
       "  2 => Dict(1=>[2, 1])\n",
       "  1 => Dict(2=>[1, 2])"
      ]
     },
     "metadata": {},
     "output_type": "display_data"
    }
   ],
   "source": [
    "TIMETRANSF.scales.paths"
   ]
  },
  {
   "attachments": {},
   "cell_type": "markdown",
   "metadata": {},
   "source": [
    "If now we create a `DTS` epoch, it is possible to use the custom time transformation system\n",
    "to convert to `NTSA`:"
   ]
  },
  {
   "cell_type": "code",
   "execution_count": 16,
   "metadata": {},
   "outputs": [
    {
     "data": {
      "text/plain": [
       "2000-01-01T12:00:00.000 DTS"
      ]
     },
     "metadata": {},
     "output_type": "display_data"
    }
   ],
   "source": [
    "# Create the new epoch \n",
    "# IMPORTANT: only J2000 seconds Epoch parser works with custom timescales.\n",
    "e = Epoch(0.0, DTS)"
   ]
  },
  {
   "cell_type": "code",
   "execution_count": 19,
   "metadata": {},
   "outputs": [
    {
     "data": {
      "text/plain": [
       "2000-01-01T12:00:01.000 NTSA"
      ]
     },
     "metadata": {},
     "output_type": "display_data"
    }
   ],
   "source": [
    "# Call `convert` using the custom time transformation system \n",
    "convert(NTSA, e, system=TIMETRANSF)"
   ]
  },
  {
   "attachments": {},
   "cell_type": "markdown",
   "metadata": {},
   "source": [
    "!!! note\n",
    "    The `system` is an optimal output if the `Basic` time transformation system is used.\n",
    "\n",
    "To conclude the example, `NTSB` is has to be inserted. Let's assume that only the transformation\n",
    "`NTSA -> NTSB` can be constructed. Then: "
   ]
  },
  {
   "cell_type": "code",
   "execution_count": 20,
   "metadata": {},
   "outputs": [],
   "source": [
    "# Create the linear offset function\n",
    "offset_ntsa2ntsb(sec::Number) = sec/86400.0\n",
    "# Register the timescale to the computational graph\n",
    "add_timescale(TIMETRANSF, NTSB, offset_ntsa2ntsb, parent=NTSA)"
   ]
  },
  {
   "attachments": {},
   "cell_type": "markdown",
   "metadata": {},
   "source": [
    "Now, let's have a look to the nodes in the graph:"
   ]
  },
  {
   "cell_type": "code",
   "execution_count": 21,
   "metadata": {},
   "outputs": [
    {
     "data": {
      "text/plain": [
       "3-element Vector{Basic.Tempo.TimeScaleNode{Float64}}:\n",
       " TimeScaleNode{Float64}(name=DTS, id=1)\n",
       "\n",
       " TimeScaleNode{Float64}(name=NTSA, id=2, parent=1)\n",
       "\n",
       " TimeScaleNode{Float64}(name=NTSB, id=3, parent=2)\n"
      ]
     },
     "metadata": {},
     "output_type": "display_data"
    }
   ],
   "source": [
    "TIMETRANSF.scales.nodes"
   ]
  },
  {
   "attachments": {},
   "cell_type": "markdown",
   "metadata": {},
   "source": [
    "Where the new timescale has been registered with the alias `3`. Note however, that from `3` no\n",
    "transformations are available:"
   ]
  },
  {
   "cell_type": "code",
   "execution_count": 22,
   "metadata": {},
   "outputs": [
    {
     "data": {
      "text/plain": [
       "Dict{Int64, Dict{Int64, Vector{Int64}}} with 3 entries:\n",
       "  2 => Dict(3=>[2, 3], 1=>[2, 1])\n",
       "  3 => Dict(2=>[], 1=>[])\n",
       "  1 => Dict(2=>[1, 2], 3=>[1, 2, 3])"
      ]
     },
     "metadata": {},
     "output_type": "display_data"
    }
   ],
   "source": [
    "TIMETRANSF.scales.paths"
   ]
  },
  {
   "attachments": {},
   "cell_type": "markdown",
   "metadata": {},
   "source": [
    "To conclude, let's test the new time transformation system. Let's take the previous `Epoch` \n",
    "translate forward of 2 days and transform to `NTSA` and `NTSB`. We should obtain a translation\n",
    "of `1 sec` and `3 sec` respectively:"
   ]
  },
  {
   "cell_type": "code",
   "execution_count": 23,
   "metadata": {},
   "outputs": [
    {
     "data": {
      "text/plain": [
       "2000-01-03T12:00:00.000 DTS"
      ]
     },
     "metadata": {},
     "output_type": "display_data"
    }
   ],
   "source": [
    "# Translate the epoch\n",
    "e += 2*86400"
   ]
  },
  {
   "cell_type": "code",
   "execution_count": 26,
   "metadata": {},
   "outputs": [
    {
     "data": {
      "text/plain": [
       "2000-01-03T12:00:01.000 NTSA"
      ]
     },
     "metadata": {},
     "output_type": "display_data"
    }
   ],
   "source": [
    "# Convert to `NTSA`\n",
    "ea = convert(NTSA, e, system=TIMETRANSF)"
   ]
  },
  {
   "cell_type": "code",
   "execution_count": 27,
   "metadata": {},
   "outputs": [
    {
     "data": {
      "text/plain": [
       "2000-01-03T12:00:03.000 NTSB"
      ]
     },
     "metadata": {},
     "output_type": "display_data"
    }
   ],
   "source": [
    "# Convert to `NTSB`\n",
    "eb = convert(NTSB, e, system=TIMETRANSF)"
   ]
  }
 ],
 "metadata": {
  "kernelspec": {
   "display_name": "Julia 1.8.4",
   "language": "julia",
   "name": "julia-1.8"
  },
  "language_info": {
   "file_extension": ".jl",
   "mimetype": "application/julia",
   "name": "julia",
   "version": "1.8.4"
  },
  "orig_nbformat": 4
 },
 "nbformat": 4,
 "nbformat_minor": 2
}
