{
 "cells": [
  {
   "cell_type": "markdown",
   "metadata": {},
   "source": [
    "# [Points graphs creation and handling: Spacecraft Geometry Example](@id tutorial_01_points)"
   ]
  },
  {
   "cell_type": "code",
   "execution_count": 1,
   "metadata": {
    "execution": {
     "iopub.execute_input": "2023-09-20T21:51:14.211000Z",
     "iopub.status.busy": "2023-09-20T21:51:13.907000Z",
     "iopub.status.idle": "2023-09-20T21:51:16.773000Z",
     "shell.execute_reply": "2023-09-20T21:51:16.726000Z"
    }
   },
   "outputs": [],
   "source": [
    "using FrameTransformations"
   ]
  },
  {
   "cell_type": "markdown",
   "metadata": {},
   "source": [
    "`FrameTransformations` provides the possibility to create graphs of points completely defined \n",
    "by the user and use unique capabilities of the `FrameSystem` to handle different types of them. \n",
    "At the time being, the following points types are allowed:\n",
    "\n",
    "- **Root point**: it is the root of the graph and has an assigned set of axes. All the other points are then assumed to belong to the same axes.\n",
    "- **Fixed points**: are those whose positions have a constant `offset` with respect their `parent` points in the given set of `axes`.\n",
    "- **Updatable points**: differently from all the other classes, the state vector for updatable points (expressed in the set of input `axes`) shall be manually updated before being used for any other computations.\n",
    "- **Dynamical points**:  for them the state vector for these points depends only on time and is computed through the custom functions provided by the user.\n",
    "- **Ephemeris points**: is intended for points whose state-vector is read from ephemeris kernels.\n",
    "\n",
    "This tutorial will cover only the first four types since a dedicated tutorial is available for\n",
    "ephemeris points within the `Frames` tutorial."
   ]
  },
  {
   "cell_type": "markdown",
   "metadata": {},
   "source": [
    "## Graph creation\n",
    "\n",
    "Let's assume we want to create a points computational graph whose points are assigned\n",
    "w.r.t. to a dummy frame called `SatelliteFrame`.\n",
    "\n",
    "There are two things to be defined to create the computational graph: the `order` \n",
    "of the graph (i.e. 1 for position, 2 for position and velocity, ...) and the `timescale`\n",
    "in which time is represented within the graph."
   ]
  },
  {
   "cell_type": "code",
   "execution_count": 2,
   "metadata": {
    "execution": {
     "iopub.execute_input": "2023-09-20T21:51:16.979000Z",
     "iopub.status.busy": "2023-09-20T21:51:16.775000Z",
     "iopub.status.idle": "2023-09-20T21:51:17.609000Z",
     "shell.execute_reply": "2023-09-20T21:51:17.609000Z"
    }
   },
   "outputs": [
    {
     "data": {
      "text/plain": [
       "FrameSystem{2, Float64, BarycentricDynamicalTime, JSMDUtils.NullEphemerisProvider}(\n",
       "  eph: JSMDUtils.NullEphemerisProvider(),\n",
       "  points: EMPTY\n",
       "  axes: EMPTY\n",
       ")\n"
      ]
     },
     "execution_count": 2,
     "metadata": {},
     "output_type": "execute_result"
    }
   ],
   "source": [
    "fs = FrameSystem{2, Float64, BarycentricDynamicalTime}()"
   ]
  },
  {
   "cell_type": "markdown",
   "metadata": {},
   "source": [
    "We can see that, within the frame system there are both `points` and `axes` graphs. \n",
    "In this case, at the moment, they are completely empty."
   ]
  },
  {
   "cell_type": "markdown",
   "metadata": {},
   "source": [
    "## Register the root point\n",
    "\n",
    "The first step in the construction of the graph is the definition of the root point axes model.\n",
    "A new axes can be created by means of the [`@axes`](@ref) macro. "
   ]
  },
  {
   "cell_type": "code",
   "execution_count": 3,
   "metadata": {
    "execution": {
     "iopub.execute_input": "2023-09-20T21:51:17.620000Z",
     "iopub.status.busy": "2023-09-20T21:51:17.620000Z",
     "iopub.status.idle": "2023-09-20T21:51:18.431000Z",
     "shell.execute_reply": "2023-09-20T21:51:18.431000Z"
    }
   },
   "outputs": [],
   "source": [
    "# Create the new axes\n",
    "@axes SATF 1 SatelliteFrame\n",
    "\n",
    "# Register the axes \n",
    "add_axes_inertial!(fs, SATF)"
   ]
  },
  {
   "cell_type": "markdown",
   "metadata": {},
   "source": [
    "Once the root point axes are defined the root point can be also defined. \n",
    "Generally speaking, there are always two ways of working with points within `FrameTransformations`:\n",
    "using aliases or not."
   ]
  },
  {
   "cell_type": "code",
   "execution_count": 4,
   "metadata": {
    "execution": {
     "iopub.execute_input": "2023-09-20T21:51:18.433000Z",
     "iopub.status.busy": "2023-09-20T21:51:18.433000Z",
     "iopub.status.idle": "2023-09-20T21:51:18.750000Z",
     "shell.execute_reply": "2023-09-20T21:51:18.750000Z"
    }
   },
   "outputs": [],
   "source": [
    "# Define Spacecraft center alias \n",
    "@point SC -10000 SpacecraftCenter\n",
    "\n",
    "# Register the new point as a root \n",
    "add_point_root!(fs, SC, SATF) # Using aliases \n",
    "# add_point_root!(fs, :SC, -10000, SATF) # Not using aliases"
   ]
  },
  {
   "cell_type": "markdown",
   "metadata": {},
   "source": [
    "Now, the computational graph starts to be populated by the root point and root axes: "
   ]
  },
  {
   "cell_type": "code",
   "execution_count": 5,
   "metadata": {
    "execution": {
     "iopub.execute_input": "2023-09-20T21:51:18.751000Z",
     "iopub.status.busy": "2023-09-20T21:51:18.751000Z",
     "iopub.status.idle": "2023-09-20T21:51:18.752000Z",
     "shell.execute_reply": "2023-09-20T21:51:18.752000Z"
    }
   },
   "outputs": [
    {
     "data": {
      "text/plain": [
       "FrameSystem{2, Float64, BarycentricDynamicalTime, JSMDUtils.NullEphemerisProvider}(\n",
       "  eph: JSMDUtils.NullEphemerisProvider(),\n",
       "  points: \t \n",
       "\t SC\n",
       "\t \n",
       "  axes: \t\n",
       "\tSATF\n",
       "\t\n",
       ")\n"
      ]
     },
     "execution_count": 5,
     "metadata": {},
     "output_type": "execute_result"
    }
   ],
   "source": [
    "fs"
   ]
  },
  {
   "cell_type": "markdown",
   "metadata": {},
   "source": [
    "## Register fixed points\n",
    "\n",
    "To register fixed points, the method `add_point_fixed!` can be called. For example let's assume\n",
    "that we want to add the location of an antenna and a some solar solar panels:"
   ]
  },
  {
   "cell_type": "code",
   "execution_count": 6,
   "metadata": {
    "execution": {
     "iopub.execute_input": "2023-09-20T21:51:18.753000Z",
     "iopub.status.busy": "2023-09-20T21:51:18.753000Z",
     "iopub.status.idle": "2023-09-20T21:51:18.800000Z",
     "shell.execute_reply": "2023-09-20T21:51:18.800000Z"
    }
   },
   "outputs": [],
   "source": [
    "# Create the new points\n",
    "@point SACL -10101 SolarArrayCenterLeft\n",
    "@point SACR -10102 SolarArrayCenterRight\n",
    "@point Antenna -10001\n",
    "\n",
    "# Define offsets \n",
    "sa_offset_left = [1.0, 0.0, 0.0]\n",
    "sa_offset_right = [-1.0, 0.0, 0.0]\n",
    "an_offset = [0.0, 0.0, -1.0]\n",
    "\n",
    "add_point_fixed!(fs, SACL, SC, SATF, sa_offset_left)\n",
    "add_point_fixed!(fs, SACR, SC, SATF, sa_offset_right)\n",
    "add_point_fixed!(fs, Antenna, SC, SATF, an_offset)"
   ]
  },
  {
   "cell_type": "markdown",
   "metadata": {},
   "source": [
    "As a result the graph is not populated with new points:"
   ]
  },
  {
   "cell_type": "code",
   "execution_count": 7,
   "metadata": {
    "execution": {
     "iopub.execute_input": "2023-09-20T21:51:18.802000Z",
     "iopub.status.busy": "2023-09-20T21:51:18.802000Z",
     "iopub.status.idle": "2023-09-20T21:51:18.802000Z",
     "shell.execute_reply": "2023-09-20T21:51:18.802000Z"
    }
   },
   "outputs": [
    {
     "data": {
      "text/plain": [
       "FrameSystem{2, Float64, BarycentricDynamicalTime, JSMDUtils.NullEphemerisProvider}(\n",
       "  eph: JSMDUtils.NullEphemerisProvider(),\n",
       "  points: \t \n",
       "\t SC\n",
       "\t  ├── SACL \n",
       "\t  ├── SACR \n",
       "\t  ├── Antenna \n",
       "\t \n",
       "  axes: \t\n",
       "\tSATF\n",
       "\t\n",
       ")\n"
      ]
     },
     "execution_count": 7,
     "metadata": {},
     "output_type": "execute_result"
    }
   ],
   "source": [
    "fs"
   ]
  },
  {
   "cell_type": "markdown",
   "metadata": {},
   "source": [
    "We can now use the `vectorX` methods to compute the desired quantities out of the graph:"
   ]
  },
  {
   "cell_type": "code",
   "execution_count": 8,
   "metadata": {
    "execution": {
     "iopub.execute_input": "2023-09-20T21:51:18.804000Z",
     "iopub.status.busy": "2023-09-20T21:51:18.804000Z",
     "iopub.status.idle": "2023-09-20T21:51:20.267000Z",
     "shell.execute_reply": "2023-09-20T21:51:20.267000Z"
    }
   },
   "outputs": [
    {
     "data": {
      "text/plain": [
       "3-element StaticArraysCore.SVector{3, Float64} with indices SOneTo(3):\n",
       " 1.0\n",
       " 0.0\n",
       " 0.0"
      ]
     },
     "execution_count": 8,
     "metadata": {},
     "output_type": "execute_result"
    }
   ],
   "source": [
    "# We can evaluate the positions of the different points in the graph:\n",
    "vector3(fs, SC, SACL, SATF, 0.0)"
   ]
  },
  {
   "cell_type": "code",
   "execution_count": 9,
   "metadata": {
    "execution": {
     "iopub.execute_input": "2023-09-20T21:51:20.269000Z",
     "iopub.status.busy": "2023-09-20T21:51:20.269000Z",
     "iopub.status.idle": "2023-09-20T21:51:20.276000Z",
     "shell.execute_reply": "2023-09-20T21:51:20.276000Z"
    }
   },
   "outputs": [
    {
     "data": {
      "text/plain": [
       "3-element StaticArraysCore.SVector{3, Float64} with indices SOneTo(3):\n",
       " -2.0\n",
       " -0.0\n",
       " -0.0"
      ]
     },
     "execution_count": 9,
     "metadata": {},
     "output_type": "execute_result"
    }
   ],
   "source": [
    "# and we can also combine paths\n",
    "vector3(fs, SACL, SACR, SATF, 0.0)"
   ]
  },
  {
   "cell_type": "markdown",
   "metadata": {},
   "source": [
    "## Register updatable points\n",
    "\n",
    "Updatable points are a class of point whose states shall be manually updated before the other\n",
    "computations. They can be inserted in the computational graphs as follows:"
   ]
  },
  {
   "cell_type": "code",
   "execution_count": 10,
   "metadata": {
    "execution": {
     "iopub.execute_input": "2023-09-20T21:51:20.278000Z",
     "iopub.status.busy": "2023-09-20T21:51:20.278000Z",
     "iopub.status.idle": "2023-09-20T21:51:20.314000Z",
     "shell.execute_reply": "2023-09-20T21:51:20.314000Z"
    }
   },
   "outputs": [],
   "source": [
    "# Let's create a new point, which will be \"updatable\"\n",
    "@point UA -10002 UpdatableAppendage\n",
    "\n",
    "# Register the new point \n",
    "add_point_updatable!(fs, UA, SC, SATF)"
   ]
  },
  {
   "cell_type": "markdown",
   "metadata": {},
   "source": [
    "If we call any `vectorX` method without performing the update of the desired state, we'll\n",
    "have an error.  Therefore, we shall first call the `update_point!` method and the evaluate the computational graph:"
   ]
  },
  {
   "cell_type": "code",
   "execution_count": 11,
   "metadata": {
    "execution": {
     "iopub.execute_input": "2023-09-20T21:51:20.316000Z",
     "iopub.status.busy": "2023-09-20T21:51:20.316000Z",
     "iopub.status.idle": "2023-09-20T21:51:20.386000Z",
     "shell.execute_reply": "2023-09-20T21:51:20.386000Z"
    }
   },
   "outputs": [
    {
     "data": {
      "text/plain": [
       "3-element StaticArraysCore.SVector{3, Float64} with indices SOneTo(3):\n",
       " -0.0\n",
       " -1.0\n",
       "  1.0"
      ]
     },
     "execution_count": 11,
     "metadata": {},
     "output_type": "execute_result"
    }
   ],
   "source": [
    "update_point!(fs, UA, [0.0, -1.0, 0.0], 0.0)\n",
    "vector3(fs, Antenna, UA, SATF, 0.0)"
   ]
  },
  {
   "cell_type": "markdown",
   "metadata": {},
   "source": [
    "Note that in the previous example, only the position has been updated but the current frame\n",
    "system is of order two! Therefore, in this case, calling `vector6` will give an error since \n",
    "the computational graph is order-sentitive.\n",
    "\n",
    "To correct that behaviour, also the higher order shall be updated:"
   ]
  },
  {
   "cell_type": "code",
   "execution_count": 12,
   "metadata": {
    "execution": {
     "iopub.execute_input": "2023-09-20T21:51:20.388000Z",
     "iopub.status.busy": "2023-09-20T21:51:20.388000Z",
     "iopub.status.idle": "2023-09-20T21:51:20.583000Z",
     "shell.execute_reply": "2023-09-20T21:51:20.583000Z"
    }
   },
   "outputs": [
    {
     "data": {
      "text/plain": [
       "6-element StaticArraysCore.SVector{6, Float64} with indices SOneTo(6):\n",
       "  1.0\n",
       " -1.0\n",
       "  1.0\n",
       " -0.0\n",
       " -0.0\n",
       " -0.0"
      ]
     },
     "execution_count": 12,
     "metadata": {},
     "output_type": "execute_result"
    }
   ],
   "source": [
    "update_point!(fs, UA, [1.0, -1.0, 0.0, 0.0, 0.0, 0.0], 0.0)\n",
    "vector6(fs, Antenna, UA, SATF, 0.0)"
   ]
  },
  {
   "cell_type": "markdown",
   "metadata": {},
   "source": [
    "## Register dynamical points\n",
    "\n",
    "It is possible to register also time-dependent points (these are not generally ephemeris ones,\n",
    "but could be). To do that, first a time-dependent function shall be defined and then \n",
    "the `add_point_dynamical!` can be used to insert the point."
   ]
  },
  {
   "cell_type": "code",
   "execution_count": 13,
   "metadata": {
    "execution": {
     "iopub.execute_input": "2023-09-20T21:51:20.585000Z",
     "iopub.status.busy": "2023-09-20T21:51:20.585000Z",
     "iopub.status.idle": "2023-09-20T21:51:21.005000Z",
     "shell.execute_reply": "2023-09-20T21:51:21.005000Z"
    }
   },
   "outputs": [],
   "source": [
    "# Create the new point \n",
    "@point TimeDependantAppendage -10003\n",
    "\n",
    "# Define how the point behaves in time \n",
    "fun(t::T) where T = [cos(t), sin(t), 0]\n",
    "\n",
    "# Register the point \n",
    "add_point_dynamical!(fs, TimeDependantAppendage, UA, SATF, fun)"
   ]
  },
  {
   "cell_type": "markdown",
   "metadata": {},
   "source": [
    "Note that it is possible to create parent-child relations between any kind of points.\n",
    "\n",
    "Once registered, the usual `vectorX` methods could be called. Note that, differently from the\n",
    "updatable points case, if the user-defined function returns a state vector which is smaller \n",
    "than the one associated to the order of the computational graph,the other orders are computed via autodiff."
   ]
  },
  {
   "cell_type": "code",
   "execution_count": 14,
   "metadata": {
    "execution": {
     "iopub.execute_input": "2023-09-20T21:51:21.006000Z",
     "iopub.status.busy": "2023-09-20T21:51:21.006000Z",
     "iopub.status.idle": "2023-09-20T21:51:21.006000Z",
     "shell.execute_reply": "2023-09-20T21:51:21.006000Z"
    }
   },
   "outputs": [
    {
     "data": {
      "text/plain": [
       "FrameSystem{2, Float64, BarycentricDynamicalTime, JSMDUtils.NullEphemerisProvider}(\n",
       "  eph: JSMDUtils.NullEphemerisProvider(),\n",
       "  points: \t \n",
       "\t SC\n",
       "\t  ├── SACL \n",
       "\t  ├── SACR \n",
       "\t  ├── Antenna \n",
       "\t  ├── UA \n",
       "\t   ├── TimeDependantAppendage \n",
       "\t \n",
       "  axes: \t\n",
       "\tSATF\n",
       "\t\n",
       ")\n"
      ]
     },
     "execution_count": 14,
     "metadata": {},
     "output_type": "execute_result"
    }
   ],
   "source": [
    "fs"
   ]
  },
  {
   "cell_type": "markdown",
   "metadata": {},
   "source": [
    "Let's not evaluate the computational graph at a new point and see how it behaves:"
   ]
  },
  {
   "cell_type": "code",
   "execution_count": 15,
   "metadata": {
    "execution": {
     "iopub.execute_input": "2023-09-20T21:51:21.008000Z",
     "iopub.status.busy": "2023-09-20T21:51:21.008000Z",
     "iopub.status.idle": "2023-09-20T21:51:21.015000Z",
     "shell.execute_reply": "2023-09-20T21:51:21.015000Z"
    }
   },
   "outputs": [
    {
     "data": {
      "text/plain": [
       "6-element StaticArraysCore.SVector{6, Float64} with indices SOneTo(6):\n",
       "  1.5\n",
       " -0.1339745962155614\n",
       "  0.0\n",
       " -0.8660254037844386\n",
       "  0.5000000000000001\n",
       "  0.0"
      ]
     },
     "execution_count": 15,
     "metadata": {},
     "output_type": "execute_result"
    }
   ],
   "source": [
    "update_point!(fs, UA, [1.0, -1.0, 0.0, 0.0, 0.0, 0.0], π/3)\n",
    "vector6(fs, SC, TimeDependantAppendage, SATF, π/3)"
   ]
  }
 ],
 "metadata": {
  "kernelspec": {
   "display_name": "Julia 1.9.1",
   "language": "julia",
   "name": "julia-1.9"
  },
  "language_info": {
   "file_extension": ".jl",
   "mimetype": "application/julia",
   "name": "julia",
   "version": "1.9.1"
  }
 },
 "nbformat": 4,
 "nbformat_minor": 2
}
