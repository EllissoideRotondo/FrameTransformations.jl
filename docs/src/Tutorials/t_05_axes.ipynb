{
 "cells": [
  {
   "attachments": {},
   "cell_type": "markdown",
   "metadata": {},
   "source": [
    "# [Axes graphs creation and handling](@id tutorial_05_axes)"
   ]
  },
  {
   "cell_type": "code",
   "execution_count": 1,
   "metadata": {},
   "outputs": [],
   "source": [
    "using Basic, ReferenceFrameRotations"
   ]
  },
  {
   "attachments": {},
   "cell_type": "markdown",
   "metadata": {},
   "source": [
    "`Basic` provides the possibility to create graphs of axes completely defined by the user \n",
    "and use unique capabilities of the `FrameSystem` to handle different types of them.\n",
    "\n",
    "At the time being, the following axes types are allowed:\n",
    "- **Inertial axes**: these are the only ones which can be used as root. Can be also other than root axes.\n",
    "- **Fixed offset axes**:  have a constant orientation with respect to their `parent` axes, represented by `dcm`, a Direction Cosine Matrix (DCM).\n",
    "- **Rotating axes**:  the orientation of these axes depends only on time and is computed through the custom functions provided by the user\n",
    "- **Computable axes**:  differ from rotating axes because they are computed through two vectors that are defined within the frame system itself. Computable axes are the equivalent of SPICE's parameterized two-vector frames.\n",
    "- **Projected axes**:  the orientation of these axes depends only on time and is computed through the custom functions provided by the user. Projected axes are similar to rotating axis, except that all the positions, velocity, etc ... are rotated by the 0-order rotation (i.e. the derivatives of the rotation matrix are null, despite the rotation depends on time).\n",
    "- **Ephemeris axes**: these are constructed by looking for euler angles and their derivatives needed by the rotation from the ephemeris kernels loaded in `frames`."
   ]
  },
  {
   "attachments": {},
   "cell_type": "markdown",
   "metadata": {},
   "source": [
    "## Graph creation"
   ]
  },
  {
   "attachments": {},
   "cell_type": "markdown",
   "metadata": {},
   "source": [
    "Then, let's assume we want to create an axes computational graph whose axes are assigned w.r.t.\n",
    "the `ICRF` frame.\n",
    "\n",
    "There is actually two other things to be assigned to create the computational graph: the `order` \n",
    "of the graph, i.e. if position, velocity, acceleration,... shall be computed and the timescale\n",
    "in which time is represented within the graph. In this case, the latter is embedded in the \n",
    "constructor since we are using an ephemeris provider."
   ]
  },
  {
   "cell_type": "code",
   "execution_count": 2,
   "metadata": {},
   "outputs": [
    {
     "data": {
      "text/plain": [
       "FrameSystem{3, Float64, BarycentricDynamicalTime, CalcephProvider}(\n",
       "  eph: CalcephProvider(CALCEPH.Ephem(Ptr{Nothing} @0x0000000002d6c1b0)),\n",
       "  points: EMPTY\n",
       "  axes: EMPTY\n",
       ")\n"
      ]
     },
     "metadata": {},
     "output_type": "display_data"
    }
   ],
   "source": [
    "# Load ephemeris to memory\n",
    "eph = load(\n",
    "    CalcephProvider, \n",
    "    [\n",
    "        \"/home/andrea/Documents/Kernels/spk/de440.bsp\", \n",
    "        \"/home/andrea/Documents/Kernels/pck/moon_pa_de440_200625.bpc\"\n",
    "    ]\n",
    ")\n",
    "\n",
    "# Create the graph\n",
    "G = FrameSystem{3, Float64}(eph)"
   ]
  },
  {
   "attachments": {},
   "cell_type": "markdown",
   "metadata": {},
   "source": [
    "We can see that, within the frame system there are both `points` and `axes` graphs. In\n",
    "this case, at the moment, they are completely empty."
   ]
  },
  {
   "attachments": {},
   "cell_type": "markdown",
   "metadata": {},
   "source": [
    "## Register the root axes"
   ]
  },
  {
   "attachments": {},
   "cell_type": "markdown",
   "metadata": {},
   "source": [
    "Once the computational graph has been created, the root axes shall be registered. These shall\n",
    "be **inertial** axes, without any offset. In this example, let us consider the `ICRF`."
   ]
  },
  {
   "cell_type": "code",
   "execution_count": 3,
   "metadata": {},
   "outputs": [],
   "source": [
    "# Create the new axes \n",
    "@axes ICRF 1 InternationalCelestialReferenceFrame \n",
    "\n",
    "# Register the new axes in the graph as root axes\n",
    "add_axes_inertial!(G, ICRF)"
   ]
  },
  {
   "attachments": {},
   "cell_type": "markdown",
   "metadata": {},
   "source": [
    "Once the root axes are registered any other axis type can be added."
   ]
  },
  {
   "attachments": {},
   "cell_type": "markdown",
   "metadata": {},
   "source": [
    "## Register fixed-offset axes"
   ]
  },
  {
   "attachments": {},
   "cell_type": "markdown",
   "metadata": {},
   "source": [
    "Fixed offset axes are a simple way to represent a constant orientation w.r.t. their parent axes.\n",
    "\n",
    "!!! note\n",
    "    While inertial axes do not rotate with respect to the star background, fixed offset axes are only \n",
    "    constant with respect to their parent axes, but might be rotating with respect to some other \n",
    "    inertial axes."
   ]
  },
  {
   "cell_type": "code",
   "execution_count": 4,
   "metadata": {},
   "outputs": [],
   "source": [
    "# Create new axis \n",
    "@axes FO1 2 \n",
    "\n",
    "# Register \n",
    "add_axes_fixedoffset!(G, FO1, ICRF, angle_to_dcm(π/4, :Z))"
   ]
  },
  {
   "attachments": {},
   "cell_type": "markdown",
   "metadata": {},
   "source": [
    "Now we can call any `rotationX` method to get the rotation matrix:"
   ]
  },
  {
   "cell_type": "code",
   "execution_count": 5,
   "metadata": {},
   "outputs": [
    {
     "data": {
      "text/plain": [
       "Rotation{2, Float64}(([0.7071067811865476 0.7071067811865475 0.0; -0.7071067811865475 0.7071067811865476 0.0; 0.0 0.0 1.0], [0.0 0.0 0.0; 0.0 0.0 0.0; 0.0 0.0 0.0]))"
      ]
     },
     "metadata": {},
     "output_type": "display_data"
    }
   ],
   "source": [
    "R = rotation6(G, ICRF, FO1, 125*86400.0)"
   ]
  },
  {
   "attachments": {},
   "cell_type": "markdown",
   "metadata": {},
   "source": [
    "Then, to apply the rotation to a vector, we can exploit the `Base.*` overloads available in\n",
    "`Basic` and simply call:"
   ]
  },
  {
   "cell_type": "code",
   "execution_count": 6,
   "metadata": {},
   "outputs": [
    {
     "data": {
      "text/plain": [
       "6-element StaticArraysCore.SVector{6, Float64} with indices SOneTo(6):\n",
       "  0.7071067811865476\n",
       " -0.7071067811865475\n",
       "  0.0\n",
       "  0.0\n",
       "  0.0\n",
       "  0.0"
      ]
     },
     "metadata": {},
     "output_type": "display_data"
    }
   ],
   "source": [
    "R * [1.0, 0.0, 0.0, 0.0, 0.0, 0.0]"
   ]
  },
  {
   "attachments": {},
   "cell_type": "markdown",
   "metadata": {},
   "source": [
    "## Register rotating axes"
   ]
  },
  {
   "attachments": {},
   "cell_type": "markdown",
   "metadata": {},
   "source": [
    "Rotating axes are, generic, time-dependant, non-inertial axes. In order to register this axes\n",
    "of this kind in the graph, first a function (and optionally their derivatives) shall be defined.\n",
    "\n",
    "The function shall return a  Direction Cosine Matrix (DCM). Let us call it `fun`.\n",
    "\n",
    "If `δfun`, `δ²fun` or `δ³fun` are not provided, they are computed via automatic differentiation.\n",
    "Here `δⁿ` are the functions that return the DCM and the n-th order derivative."
   ]
  },
  {
   "cell_type": "code",
   "execution_count": 7,
   "metadata": {},
   "outputs": [],
   "source": [
    "# Define new axes\n",
    "@axes RotAx 3\n",
    "\n",
    "# Define the transformation\n",
    "fun(t) = angle_to_dcm(t, :Z)'\n",
    "\n",
    "# Register the new axes \n",
    "add_axes_rotating!(G, RotAx, FO1, fun)"
   ]
  },
  {
   "attachments": {},
   "cell_type": "markdown",
   "metadata": {},
   "source": [
    "Now we can call any `rotationX` method to get any desired rotation matrix:"
   ]
  },
  {
   "cell_type": "code",
   "execution_count": 8,
   "metadata": {},
   "outputs": [
    {
     "data": {
      "text/plain": [
       "Rotation{2, Float64}(([1.0 0.0 0.0; 1.0146536357569526e-17 1.0 0.0; 0.0 0.0 1.0], [-1.0146536357569526e-17 -1.0 0.0; 1.0 0.0 0.0; 0.0 0.0 0.0]))"
      ]
     },
     "metadata": {},
     "output_type": "display_data"
    }
   ],
   "source": [
    "rotation6(G, ICRF, RotAx, π/4)"
   ]
  },
  {
   "attachments": {},
   "cell_type": "markdown",
   "metadata": {},
   "source": [
    "## Register computable axes"
   ]
  },
  {
   "attachments": {},
   "cell_type": "markdown",
   "metadata": {},
   "source": [
    "Computable axes are a kind of _time dependant axes_. In this case, differently from the \n",
    "rotating axes, the axes and their derivatives are computed through two time-dependant vectors\n",
    "that are extracted from the registered ephemeris. These axes are the equivalent of SPICE's\n",
    "two-vector frames."
   ]
  },
  {
   "cell_type": "code",
   "execution_count": 9,
   "metadata": {},
   "outputs": [],
   "source": [
    "# Create new axes \n",
    "@axes SunFrame 4\n",
    "\n",
    "# Create points to be used\n",
    "@point SSB 0 SolarySystemBarycenter \n",
    "@point Sun 10 \n",
    "\n",
    "# Register the root point \n",
    "add_point_root!(G, SSB, ICRF)\n",
    "\n",
    "# Register other points \n",
    "add_point_ephemeris!(G, Sun, SSB)\n",
    "\n",
    "# Create principal direction\n",
    "v1 = ComputableAxesVector(10, 0, 1)\n",
    "\n",
    "# Create secondary direction\n",
    "v2 = ComputableAxesVector(10, 0, 2)\n",
    "\n",
    "# Register the new axes\n",
    "add_axes_computable!(G, SunFrame, ICRF, v1, v2, :XY)"
   ]
  },
  {
   "cell_type": "code",
   "execution_count": 10,
   "metadata": {},
   "outputs": [
    {
     "data": {
      "text/plain": [
       "Rotation{2, Float64}(([0.930764538489918 0.34524125434920866 0.12035717753850385; -0.36466636541206515 0.8528478114547875 0.3737232297221213; 0.026378321152114293 -0.39173854391949264 0.91969837304468], [-4.875905229140774e-9 1.1403314091867927e-8 4.997003351253353e-9; -1.2447345420279773e-8 -4.583247734107517e-9 -1.686583449794906e-9; -3.0651424534885396e-11 7.168470364139439e-11 3.141268419372045e-11]))"
      ]
     },
     "metadata": {},
     "output_type": "display_data"
    }
   ],
   "source": [
    "rotation6(G, ICRF, SunFrame, 0.0)"
   ]
  },
  {
   "attachments": {},
   "cell_type": "markdown",
   "metadata": {},
   "source": [
    "## Register projected axes"
   ]
  },
  {
   "attachments": {},
   "cell_type": "markdown",
   "metadata": {},
   "source": [
    "Projected axes are a particular type of inertial axes. In this case the rotation is built by\n",
    "means of a time dependant function `f(t)`. However, all the derivatives of `f(t)` are assumed\n",
    "to be zero. This axes type is usually used to build True-of-Date (TOD) axes sets."
   ]
  },
  {
   "cell_type": "code",
   "execution_count": 11,
   "metadata": {},
   "outputs": [],
   "source": [
    "# Define new axes\n",
    "@axes ProjAx 5\n",
    "\n",
    "# Define the transformation\n",
    "fun(t) = angle_to_dcm(t, :Z)'\n",
    "\n",
    "# Register the new axes \n",
    "add_axes_projected!(G, ProjAx, ICRF, fun)"
   ]
  },
  {
   "cell_type": "code",
   "execution_count": 12,
   "metadata": {},
   "outputs": [
    {
     "data": {
      "text/plain": [
       "Rotation{2, Float64}(([0.5403023058681398 -0.8414709848078965 0.0; 0.8414709848078965 0.5403023058681398 0.0; 0.0 0.0 1.0], [0.0 0.0 0.0; 0.0 0.0 0.0; 0.0 0.0 0.0]))"
      ]
     },
     "metadata": {},
     "output_type": "display_data"
    }
   ],
   "source": [
    "rotation6(G, ICRF, ProjAx, 1.0)"
   ]
  },
  {
   "attachments": {},
   "cell_type": "markdown",
   "metadata": {},
   "source": [
    "## Register ephemeris axes"
   ]
  },
  {
   "attachments": {},
   "cell_type": "markdown",
   "metadata": {},
   "source": [
    "Ephemeris axes a are a type of time-dependent axes which are build by means of Euler angles\n",
    "contained within an ephemeris file (`.bpc`). These are used to build Lunar frames or other\n",
    "high-precision axes."
   ]
  },
  {
   "cell_type": "code",
   "execution_count": 13,
   "metadata": {},
   "outputs": [],
   "source": [
    "# Define axes \n",
    "# These shall have the ID of the ephemeris kernel\n",
    "@axes MoonDummy 31008\n",
    "\n",
    "# Register new axes \n",
    "add_axes_ephemeris!(G, MoonDummy, :ZXZ)"
   ]
  },
  {
   "cell_type": "code",
   "execution_count": 14,
   "metadata": {},
   "outputs": [
    {
     "data": {
      "text/plain": [
       "Rotation{2, Float64}(([0.6219858271328162 0.7077417415402774 0.33501531028811493; -0.7827094708541836 0.5741658942616172 0.24020701509723086; -0.022349834027802825 -0.41162501521201655 0.9110792126761739], [-2.08357886027015e-6 1.5281551322405242e-6 6.400225290645924e-7; -1.6557201080619335e-6 -1.8840092793849879e-6 -8.917888467237793e-7; -3.897629745766924e-10 -4.729986090501684e-10 -2.2326181369018686e-10]))"
      ]
     },
     "metadata": {},
     "output_type": "display_data"
    }
   ],
   "source": [
    "rotation6(G, ICRF, MoonDummy, 86400.0)"
   ]
  }
 ],
 "metadata": {
  "kernelspec": {
   "display_name": "Julia 1.8.4",
   "language": "julia",
   "name": "julia-1.8"
  },
  "language_info": {
   "file_extension": ".jl",
   "mimetype": "application/julia",
   "name": "julia",
   "version": "1.8.4"
  },
  "orig_nbformat": 4
 },
 "nbformat": 4,
 "nbformat_minor": 2
}
