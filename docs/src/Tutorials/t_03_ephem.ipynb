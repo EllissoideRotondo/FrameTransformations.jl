{
 "cells": [
  {
   "attachments": {},
   "cell_type": "markdown",
   "metadata": {},
   "source": [
    "# [Ephemeris loading and manipulations](@id tutorial_03_ephem)"
   ]
  },
  {
   "attachments": {},
   "cell_type": "markdown",
   "metadata": {},
   "source": [
    "Differently from the other modules, `Ephemeris` is practically an interface-only package.\n",
    "In this tutorial the most common use-case as well as the extensions capabilites are presented."
   ]
  },
  {
   "cell_type": "code",
   "execution_count": 9,
   "metadata": {},
   "outputs": [],
   "source": [
    "using Basic"
   ]
  },
  {
   "attachments": {},
   "cell_type": "markdown",
   "metadata": {},
   "source": [
    "## JPL/INPOP ephemeris handling"
   ]
  },
  {
   "attachments": {},
   "cell_type": "markdown",
   "metadata": {},
   "source": [
    "At the time being, the capabilities of [Calceph](https://www.imcce.fr/recherche/equipes/asd/calceph/)\n",
    "C library is exploited via the [CALCEPH.jl](https://github.com/JuliaAstro/CALCEPH.jl) Julia\n",
    "interface are used to access the binary planetary ephemeris files, such INPOPxx, JPL DExxx \n",
    "and SPICE ephemeris files.\n",
    "\n",
    "!!! warning\n",
    "    This introduces an inherent limitation, due to the fact that it is **not** possible to perform\n",
    "    autodiff across C code called by Julia. Therefore, the general ephemeris handling may change\n",
    "    in future, whenever a pure Julia ephemeris reader will be available.\n",
    "\n",
    "Therefore, let's have a look to some use-cases in which this interface may be used."
   ]
  },
  {
   "attachments": {},
   "cell_type": "markdown",
   "metadata": {},
   "source": [
    "First of all, the necessary kernels to follow-on the example shall be downloaded:\n",
    "- [DE440](https://naif.jpl.nasa.gov/pub/naif/generic_kernels/spk/planets/de440.bsp)\n",
    "- [MOON\\_PA\\_DE440](https://naif.jpl.nasa.gov/pub/naif/generic_kernels/pck/moon_pa_de440_200625.bpc)"
   ]
  },
  {
   "attachments": {},
   "cell_type": "markdown",
   "metadata": {},
   "source": [
    "Then, they can be loaded to the workspace exploiting the `CalcephProvider` interface:"
   ]
  },
  {
   "cell_type": "code",
   "execution_count": 10,
   "metadata": {},
   "outputs": [
    {
     "data": {
      "text/plain": [
       "CalcephProvider(CALCEPH.Ephem(Ptr{Nothing} @0x0000000007049610))"
      ]
     },
     "metadata": {},
     "output_type": "display_data"
    }
   ],
   "source": [
    "eph = load(\n",
    "    CalcephProvider, \n",
    "    [\n",
    "        \"/home/andrea/Documents/Kernels/pck/moon_pa_de440_200625.bpc\", \n",
    "        \"/home/andrea/Documents/Kernels/spk/de440.bsp\"\n",
    "    ]\n",
    ")"
   ]
  },
  {
   "cell_type": "code",
   "execution_count": 11,
   "metadata": {},
   "outputs": [
    {
     "data": {
      "text/plain": [
       "14-element Vector{CALCEPH.PositionRecord}:\n",
       " CALCEPH.PositionRecord(1, 0, 2.2871845e6, 2.6889765e6, 1)\n",
       " CALCEPH.PositionRecord(2, 0, 2.2871845e6, 2.6889765e6, 1)\n",
       " CALCEPH.PositionRecord(3, 0, 2.2871845e6, 2.6889765e6, 1)\n",
       " CALCEPH.PositionRecord(4, 0, 2.2871845e6, 2.6889765e6, 1)\n",
       " CALCEPH.PositionRecord(5, 0, 2.2871845e6, 2.6889765e6, 1)\n",
       " CALCEPH.PositionRecord(6, 0, 2.2871845e6, 2.6889765e6, 1)\n",
       " CALCEPH.PositionRecord(7, 0, 2.2871845e6, 2.6889765e6, 1)\n",
       " CALCEPH.PositionRecord(8, 0, 2.2871845e6, 2.6889765e6, 1)\n",
       " CALCEPH.PositionRecord(9, 0, 2.2871845e6, 2.6889765e6, 1)\n",
       " CALCEPH.PositionRecord(10, 0, 2.2871845e6, 2.6889765e6, 1)\n",
       " CALCEPH.PositionRecord(301, 3, 2.2871845e6, 2.6889765e6, 1)\n",
       " CALCEPH.PositionRecord(399, 3, 2.2871845e6, 2.6889765e6, 1)\n",
       " CALCEPH.PositionRecord(199, 1, 2.2871845e6, 2.6889765e6, 1)\n",
       " CALCEPH.PositionRecord(299, 2, 2.2871845e6, 2.6889765e6, 1)"
      ]
     },
     "metadata": {},
     "output_type": "display_data"
    }
   ],
   "source": [
    "# Get position records\n",
    "ephem_position_records(eph)"
   ]
  },
  {
   "cell_type": "code",
   "execution_count": 12,
   "metadata": {},
   "outputs": [
    {
     "data": {
      "text/plain": [
       "2-element Vector{CALCEPH.OrientationRecord}:\n",
       " CALCEPH.OrientationRecord(31008, 2.2871845e6, 2.6071845e6, 1)\n",
       " CALCEPH.OrientationRecord(31008, 2.6071845e6, 2.6889765e6, 1)"
      ]
     },
     "metadata": {},
     "output_type": "display_data"
    }
   ],
   "source": [
    "# Get orientation records\n",
    "ephem_orient_records(eph)"
   ]
  },
  {
   "attachments": {},
   "cell_type": "markdown",
   "metadata": {},
   "source": [
    "Therefore, by means of the `ephem_load` method, we are capable to load multiple ephemeris files\n",
    "with different extensions all in a single step. Note that the ephemeris loaded may be both\n",
    "positions or orientations as they are both handled by `CalcephProvider`.\n",
    "\n",
    "Now, once loaded, we can use the `eph` object to compute quantities as required. For example,\n",
    "to compute the position of the Moon w.r.t. Saturn we may simply call `ephem_compute_order!`,\n",
    "which is an in-place method for _arbitrary_ order ephemeris evaluation:"
   ]
  },
  {
   "cell_type": "code",
   "execution_count": 13,
   "metadata": {},
   "outputs": [
    {
     "data": {
      "text/plain": [
       "3-element Vector{Float64}:\n",
       " -9.85175766281782e8\n",
       " -7.912249575768421e8\n",
       " -2.828202495894639e8"
      ]
     },
     "metadata": {},
     "output_type": "display_data"
    }
   ],
   "source": [
    "v = zeros(6)\n",
    "ephem_compute!(v, eph, Basic.Tempo.DJ2000, 0.0, 301, 6, 0)\n",
    "v[1:3]"
   ]
  },
  {
   "attachments": {},
   "cell_type": "markdown",
   "metadata": {},
   "source": [
    "If we want to compute the velocities then we just need to change the order to `1`, etc..."
   ]
  },
  {
   "cell_type": "code",
   "execution_count": 14,
   "metadata": {},
   "outputs": [
    {
     "data": {
      "text/plain": [
       "6-element Vector{Float64}:\n",
       "  -9.85175766281782e8\n",
       "  -7.912249575768421e8\n",
       "  -2.828202495894639e8\n",
       " -21.7187066847619\n",
       " -11.793316314234914\n",
       "  -5.319653062269718"
      ]
     },
     "metadata": {},
     "output_type": "display_data"
    }
   ],
   "source": [
    "v = zeros(6)\n",
    "ephem_compute!(v, eph, Basic.Tempo.DJ2000, 0.0, 301, 6, 1)\n",
    "v"
   ]
  },
  {
   "attachments": {},
   "cell_type": "markdown",
   "metadata": {},
   "source": [
    "Note that, to use this function, the time shall be written as a two-part julian date, for\n",
    "precision purposes.\n",
    "\n",
    "\n",
    "The same approach may be used for orientations, where `ephem_orient_order!` can be used in a\n",
    "similar way:"
   ]
  },
  {
   "cell_type": "code",
   "execution_count": 15,
   "metadata": {},
   "outputs": [
    {
     "data": {
      "text/plain": [
       "3-element Vector{Float64}:\n",
       "   -0.054147058087019556\n",
       "    0.42485546099906896\n",
       " 2564.2582727215126"
      ]
     },
     "metadata": {},
     "output_type": "display_data"
    }
   ],
   "source": [
    "v = zeros(6)\n",
    "ephem_orient!(v, eph, Basic.Tempo.DJ2000, 0.0, 31008, 0)\n",
    "v[1:3]"
   ]
  },
  {
   "attachments": {},
   "cell_type": "markdown",
   "metadata": {},
   "source": [
    "## Creating a custom ephemeris provider"
   ]
  },
  {
   "attachments": {},
   "cell_type": "markdown",
   "metadata": {},
   "source": [
    "As said, the `Ephemeris` package is more an interface than an actual implementation of an\n",
    "ephemeris provider. Therefore, there is the possibility for the user to extend the \n",
    "functionalities of `Basic` with a custom ephemeris provider.\n",
    "\n",
    "To that purpose, the following steps shall be performed:\n",
    "\n",
    "1. Define a subtype of `AbstractEphemerisProvider`, creating the concrete implementation.\n",
    "2. Define an overload of `ephem_load` to load data for the new ephemeris provider.\n",
    "3. Define the required overloads of the abstract methods present in `Ephemeris\\abstract.jl` (you don't have to define all of them, just the ones required for your specific application).\n",
    "\n",
    "If the application includes the use of the new ephemeris provider within a `FrameSystem` object,\n",
    "then additional overloads should be created to ease the `FrameSystem` parsing."
   ]
  }
 ],
 "metadata": {
  "kernelspec": {
   "display_name": "Julia 1.8.4",
   "language": "julia",
   "name": "julia-1.8"
  },
  "language_info": {
   "file_extension": ".jl",
   "mimetype": "application/julia",
   "name": "julia",
   "version": "1.8.4"
  },
  "orig_nbformat": 4,
  "vscode": {
   "interpreter": {
    "hash": "916dbcbb3f70747c44a77c7bcd40155683ae19c65e1c03b4aa3499c5328201f1"
   }
  }
 },
 "nbformat": 4,
 "nbformat_minor": 2
}
