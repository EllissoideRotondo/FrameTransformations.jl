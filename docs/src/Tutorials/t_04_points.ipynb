{
 "cells": [
  {
   "attachments": {},
   "cell_type": "markdown",
   "metadata": {},
   "source": [
    "# [Points graphs creation and handling](@id tutorial_04_points)"
   ]
  },
  {
   "cell_type": "code",
   "execution_count": 2,
   "metadata": {},
   "outputs": [],
   "source": [
    "using Basic"
   ]
  },
  {
   "attachments": {},
   "cell_type": "markdown",
   "metadata": {},
   "source": [
    "`Basic` provides the possibility to create graphs of points completely defined by the user \n",
    "and use unique capabilities of the `FrameSystem` to handle different types of them.\n",
    "\n",
    "At the time being, the following points types are allowed:\n",
    "- **Root point**: it is the root of the graph and has an assigned set of axes. All the other points are then assumed to belong to the same axes.\n",
    "- **Ephemeris points**: is intended for points whose state-vector is read from ephemeris kernels.\n",
    "- **Fixed points**: are those whose positions have a constant `offset` with respect their `parent` points in the given set of `axes`.\n",
    "- **Updatable points**: differently from all the other classes, the state vector for updatable points (expressed in the set of input `axes`) shall be manually updated before being used for any other computations.\n",
    "- **Dynamical points**:  for them the state vector for these points depends only on time and is computed through the custom functions provided by the user."
   ]
  },
  {
   "attachments": {},
   "cell_type": "markdown",
   "metadata": {},
   "source": [
    "## Graph creation"
   ]
  },
  {
   "attachments": {},
   "cell_type": "markdown",
   "metadata": {},
   "source": [
    "Then, let's assume we want to create a points computational graph whose points are assigned\n",
    "w.r.t. to a dummy frame called `SatelliteFrame`.\n",
    "\n",
    "There is actually two other things to be assigned to create the computational graph: the `order` \n",
    "of the graph, i.e. if position, velocity, acceleration,... shall be computed and the timescale\n",
    "in which time is represented within the graph."
   ]
  },
  {
   "cell_type": "code",
   "execution_count": 3,
   "metadata": {},
   "outputs": [
    {
     "data": {
      "text/plain": [
       "FrameSystem{2, Float64, BarycentricDynamicalTime, Basic.Ephemeris.NullEphemerisProvider}(\n",
       "  eph: Basic.Ephemeris.NullEphemerisProvider(),\n",
       "  points: EMPTY\n",
       "  axes: EMPTY\n",
       ")\n"
      ]
     },
     "metadata": {},
     "output_type": "display_data"
    }
   ],
   "source": [
    "G = FrameSystem{2, Float64, BarycentricDynamicalTime}()"
   ]
  },
  {
   "attachments": {},
   "cell_type": "markdown",
   "metadata": {},
   "source": [
    "We can see that, within the frame system there are both `points` and `axes` graphs. In\n",
    "this case, at the moment, they are completely empty."
   ]
  },
  {
   "attachments": {},
   "cell_type": "markdown",
   "metadata": {},
   "source": [
    "## Register the root point"
   ]
  },
  {
   "attachments": {},
   "cell_type": "markdown",
   "metadata": {},
   "source": [
    "\n",
    "Let's now register our root node! For that purpose, we can exploit the `add_point_root!` function:"
   ]
  },
  {
   "cell_type": "code",
   "execution_count": 4,
   "metadata": {},
   "outputs": [],
   "source": [
    "# Create axes\n",
    "@axes SATF 1 SatelliteFrame\n",
    "\n",
    "# Create the root point\n",
    "@point SC -10000 Spacecraft\n",
    "\n",
    "# Register the axes \n",
    "add_axes_inertial!(G, SATF)\n",
    "\n",
    "# Register the root point \n",
    "add_point_root!(G, SC, SATF)"
   ]
  },
  {
   "attachments": {},
   "cell_type": "markdown",
   "metadata": {},
   "source": [
    "Now, our computational graph starts to be populated by the root point and the root axes:"
   ]
  },
  {
   "cell_type": "code",
   "execution_count": 5,
   "metadata": {},
   "outputs": [
    {
     "data": {
      "text/plain": [
       "FrameSystem{2, Float64, BarycentricDynamicalTime, Basic.Ephemeris.NullEphemerisProvider}(\n",
       "  eph: Basic.Ephemeris.NullEphemerisProvider(),\n",
       "  points: \t \n",
       "\t SC\n",
       "\t \n",
       "  axes: \t\n",
       "\tSATF\n",
       "\t\n",
       ")\n"
      ]
     },
     "metadata": {},
     "output_type": "display_data"
    }
   ],
   "source": [
    "G"
   ]
  },
  {
   "attachments": {},
   "cell_type": "markdown",
   "metadata": {},
   "source": [
    "## Register fixed points"
   ]
  },
  {
   "attachments": {},
   "cell_type": "markdown",
   "metadata": {},
   "source": [
    "To register fixed points, the method `add_point_fixed!` can be called. For example let's assume\n",
    "that we want to add the location of an antenna and a solar panel:"
   ]
  },
  {
   "cell_type": "code",
   "execution_count": 6,
   "metadata": {},
   "outputs": [],
   "source": [
    "# Create the new points\n",
    "@point SolarArrayCenter -10001\n",
    "@point AntennaCenter -10002\n",
    "\n",
    "# Define offsets \n",
    "sa_offset = [1.0, 1.0, 0.0]\n",
    "an_offset = [-1.0, 1.0, 0.0]\n",
    "\n",
    "add_point_fixed!(G, SolarArrayCenter, SC, SATF, sa_offset)\n",
    "add_point_fixed!(G, AntennaCenter, SC, SATF, an_offset)"
   ]
  },
  {
   "attachments": {},
   "cell_type": "markdown",
   "metadata": {},
   "source": [
    "Then, the graph is populated by the new points:"
   ]
  },
  {
   "cell_type": "code",
   "execution_count": 7,
   "metadata": {},
   "outputs": [
    {
     "data": {
      "text/plain": [
       "FrameSystem{2, Float64, BarycentricDynamicalTime, Basic.Ephemeris.NullEphemerisProvider}(\n",
       "  eph: Basic.Ephemeris.NullEphemerisProvider(),\n",
       "  points: \t \n",
       "\t SC\n",
       "\t  ├── SolarArrayCenter \n",
       "\t  ├── AntennaCenter \n",
       "\t \n",
       "  axes: \t\n",
       "\tSATF\n",
       "\t\n",
       ")\n"
      ]
     },
     "metadata": {},
     "output_type": "display_data"
    }
   ],
   "source": [
    "G"
   ]
  },
  {
   "attachments": {},
   "cell_type": "markdown",
   "metadata": {},
   "source": [
    "We can now use the `vectorX` methods to compute the desired quantities:"
   ]
  },
  {
   "cell_type": "code",
   "execution_count": 8,
   "metadata": {},
   "outputs": [
    {
     "data": {
      "text/plain": [
       "3-element StaticArraysCore.SVector{3, Float64} with indices SOneTo(3):\n",
       " -2.0\n",
       " -0.0\n",
       " -0.0"
      ]
     },
     "metadata": {},
     "output_type": "display_data"
    }
   ],
   "source": [
    "vector3(G, SolarArrayCenter, AntennaCenter, SATF, 0.0)"
   ]
  },
  {
   "attachments": {},
   "cell_type": "markdown",
   "metadata": {},
   "source": [
    "## Register updatable points"
   ]
  },
  {
   "attachments": {},
   "cell_type": "markdown",
   "metadata": {},
   "source": [
    "Updatable points are a class of point whose states shall be manually updated before the other\n",
    "computations. They can be inserted in the computational graphs as follows:"
   ]
  },
  {
   "cell_type": "code",
   "execution_count": 9,
   "metadata": {},
   "outputs": [],
   "source": [
    "# Let's create a new point, which will be \"updatable\"\n",
    "@point UpdatableAppendage -10003\n",
    "\n",
    "# Register the new point \n",
    "add_point_updatable!(G, UpdatableAppendage, SC, SATF)"
   ]
  },
  {
   "attachments": {},
   "cell_type": "markdown",
   "metadata": {},
   "source": [
    "Now if we call any `vectorX` method without performing the update of the desired state, we'll\n",
    "have an error:"
   ]
  },
  {
   "cell_type": "code",
   "execution_count": 10,
   "metadata": {},
   "outputs": [
    {
     "ename": "ErrorException",
     "evalue": "UpdatablePoint with NAIFId -10003 has not been updated at time 0.0 for order 1",
     "output_type": "error",
     "traceback": [
      "UpdatablePoint with NAIFId -10003 has not been updated at time 0.0 for order 1\n",
      "\n",
      "Stacktrace:\n",
      " [1] _compute_vector3(point::Basic.Frames.FramePointNode{2, Float64, 6}, t::Float64)\n",
      "   @ Basic.Frames ~/Documents/Gitlab/Astronaut/Basic/src/Frames/transform.jl:309\n",
      " [2] _compute_vector3\n",
      "   @ ~/Documents/Gitlab/Astronaut/Basic/src/Frames/transform.jl:295 [inlined]\n",
      " [3] _vector3_backwards(frame::FrameSystem{2, Float64, BarycentricDynamicalTime, Basic.Ephemeris.NullEphemerisProvider, 6}, t::Float64, path::Vector{Int64}, p1::Basic.Frames.FramePointNode{2, Float64, 6})\n",
      "   @ Basic.Frames ~/Documents/Gitlab/Astronaut/Basic/src/Frames/transform.jl:270\n",
      " [4] _compute_vector3(frame::FrameSystem{2, Float64, BarycentricDynamicalTime, Basic.Ephemeris.NullEphemerisProvider, 6}, t::Float64, axesid::Int64, path::Vector{Int64})\n",
      "   @ Basic.Frames ~/Documents/Gitlab/Astronaut/Basic/src/Frames/transform.jl:226\n",
      " [5] vector3(frame::FrameSystem{2, Float64, BarycentricDynamicalTime, Basic.Ephemeris.NullEphemerisProvider, 6}, from::AntennaCenterPoint, to::UpdatableAppendagePoint, axes::SatelliteFrameAxes, t::Float64)\n",
      "   @ Basic.Frames ~/Documents/Gitlab/Astronaut/Basic/src/Frames/transform.jl:205\n",
      " [6] top-level scope\n",
      "   @ ~/Documents/Gitlab/Astronaut/Basic/docs/src/Tutorials/t_04_points.ipynb:1"
     ]
    }
   ],
   "source": [
    "vector3(G, AntennaCenter, UpdatableAppendage, SATF, 0.0)"
   ]
  },
  {
   "attachments": {},
   "cell_type": "markdown",
   "metadata": {},
   "source": [
    "Therefore, we shall first call the `update_point!` method and the evaluate the computational graph:"
   ]
  },
  {
   "cell_type": "code",
   "execution_count": 11,
   "metadata": {},
   "outputs": [
    {
     "data": {
      "text/plain": [
       "3-element StaticArraysCore.SVector{3, Float64} with indices SOneTo(3):\n",
       "  2.0\n",
       " -2.0\n",
       " -0.0"
      ]
     },
     "metadata": {},
     "output_type": "display_data"
    }
   ],
   "source": [
    "update_point!(G, UpdatableAppendage, [1.0, -1.0, 0.0], 0.0)\n",
    "vector3(G, AntennaCenter, UpdatableAppendage, SATF, 0.0)"
   ]
  },
  {
   "attachments": {},
   "cell_type": "markdown",
   "metadata": {},
   "source": [
    "Note that in the previous example, only the position has been updated! Therefore calling `vector6`\n",
    "will give an error since the computational graph is order-sentitive."
   ]
  },
  {
   "attachments": {},
   "cell_type": "markdown",
   "metadata": {},
   "source": [
    "To correct that behaviour, also the higher order shall be updated:"
   ]
  },
  {
   "cell_type": "code",
   "execution_count": 12,
   "metadata": {},
   "outputs": [
    {
     "data": {
      "text/plain": [
       "6-element StaticArraysCore.SVector{6, Float64} with indices SOneTo(6):\n",
       "  2.0\n",
       " -2.0\n",
       " -0.0\n",
       " -0.0\n",
       " -0.0\n",
       " -0.0"
      ]
     },
     "metadata": {},
     "output_type": "display_data"
    }
   ],
   "source": [
    "update_point!(G, UpdatableAppendage, [1.0, -1.0, 0.0, 0.0, 0.0, 0.0], 0.0)\n",
    "vector6(G, AntennaCenter, UpdatableAppendage, SATF, 0.0)"
   ]
  },
  {
   "attachments": {},
   "cell_type": "markdown",
   "metadata": {},
   "source": [
    "## Register dynamical points"
   ]
  },
  {
   "attachments": {},
   "cell_type": "markdown",
   "metadata": {},
   "source": [
    "It is possible to register also time-dependent points (these are not generally ephemeris ones,\n",
    "but could be). To do so, the following steps could be performed:"
   ]
  },
  {
   "cell_type": "code",
   "execution_count": 13,
   "metadata": {},
   "outputs": [],
   "source": [
    "# Create the new point \n",
    "@point TimeDependantAppendage -10004\n",
    "\n",
    "# Define how the point behaves in time \n",
    "fun(t::T) where T = [cos(t), sin(t), 0]\n",
    "\n",
    "# Register the point \n",
    "add_point_dynamical!(G, TimeDependantAppendage, UpdatableAppendage, SATF, fun)"
   ]
  },
  {
   "attachments": {},
   "cell_type": "markdown",
   "metadata": {},
   "source": [
    "Note that it is possible to create parent-child relations between any kind of points.\n",
    "Once registered, the usual `vectorX` methods could be called. Note that if the user-defined \n",
    "function returns a state vector which is smaller than the one of the computational graph,\n",
    "the other orders are computed via autodiff."
   ]
  },
  {
   "cell_type": "code",
   "execution_count": 14,
   "metadata": {},
   "outputs": [
    {
     "data": {
      "text/plain": [
       "FrameSystem{2, Float64, BarycentricDynamicalTime, Basic.Ephemeris.NullEphemerisProvider}(\n",
       "  eph: Basic.Ephemeris.NullEphemerisProvider(),\n",
       "  points: \t \n",
       "\t SC\n",
       "\t  ├── SolarArrayCenter \n",
       "\t  ├── AntennaCenter \n",
       "\t  ├── UpdatableAppendage \n",
       "\t   ├── TimeDependantAppendage \n",
       "\t \n",
       "  axes: \t\n",
       "\tSATF\n",
       "\t\n",
       ")\n"
      ]
     },
     "metadata": {},
     "output_type": "display_data"
    }
   ],
   "source": [
    "G"
   ]
  },
  {
   "attachments": {},
   "cell_type": "markdown",
   "metadata": {},
   "source": [
    "Let's not evaluate the computational graph at a new point and see how it behaves:"
   ]
  },
  {
   "cell_type": "code",
   "execution_count": 15,
   "metadata": {},
   "outputs": [
    {
     "data": {
      "text/plain": [
       "6-element StaticArraysCore.SVector{6, Float64} with indices SOneTo(6):\n",
       "  1.5\n",
       " -0.1339745962155614\n",
       "  0.0\n",
       " -0.8660254037844386\n",
       "  0.5000000000000001\n",
       "  0.0"
      ]
     },
     "metadata": {},
     "output_type": "display_data"
    }
   ],
   "source": [
    "update_point!(G, UpdatableAppendage, [1.0, -1.0, 0.0, 0.0, 0.0, 0.0], π/3)\n",
    "vector6(G, SC, TimeDependantAppendage, SATF, π/3)"
   ]
  },
  {
   "attachments": {},
   "cell_type": "markdown",
   "metadata": {},
   "source": [
    "## Register ephemeris points"
   ]
  },
  {
   "attachments": {},
   "cell_type": "markdown",
   "metadata": {},
   "source": [
    "Note that the previous graph  not point to any ephemeris provider, therefore _ephemeris points_\n",
    "cannot be registered there.\n",
    "\n",
    "To do that, we need to load, through an ephemeris provider, some ephemeris kernels. \n",
    "In this case we use the `CalcephProvider`:"
   ]
  },
  {
   "cell_type": "code",
   "execution_count": 16,
   "metadata": {},
   "outputs": [],
   "source": [
    "# Load ephemeris to memory\n",
    "eph = load(CalcephProvider, [\"/home/andrea/Documents/Kernels/spk/de440.bsp\"])\n",
    "\n",
    "# Create the graph\n",
    "G = FrameSystem{2, Float64}(eph)\n",
    "\n",
    "# Create points\n",
    "@point SSB 0 SolarSystemBarycenter\n",
    "@point EMB 3 EarthMoonBarycenter \n",
    "@point Sun 10\n",
    "@point Earth 399\n",
    "\n",
    "# Create default axes \n",
    "@axes ICRF 1 InternationalCelestialReferenceFrame\n",
    "\n",
    "# Register the ICRF axes \n",
    "add_axes_inertial!(G, ICRF)\n",
    "\n",
    "# Register the root node \n",
    "add_point_root!(G, SSB, ICRF)\n",
    "\n",
    "# Register the other nodes \n",
    "add_point_ephemeris!(G, EMB)\n",
    "add_point_ephemeris!(G, Earth)\n",
    "add_point_ephemeris!(G, Sun)"
   ]
  },
  {
   "attachments": {},
   "cell_type": "markdown",
   "metadata": {},
   "source": [
    "Now the points graph is fully operative and we can use `vectorX` methods to get the required quantities:"
   ]
  },
  {
   "cell_type": "code",
   "execution_count": 17,
   "metadata": {},
   "outputs": [
    {
     "data": {
      "text/plain": [
       "3-element StaticArraysCore.SVector{3, Float64} with indices SOneTo(3):\n",
       " -2.6499033677425094e7\n",
       "  1.3275741733833946e8\n",
       "  5.755671847053819e7"
      ]
     },
     "metadata": {},
     "output_type": "display_data"
    }
   ],
   "source": [
    "vector3(G, Sun, Earth, ICRF, 0.0)"
   ]
  },
  {
   "attachments": {},
   "cell_type": "markdown",
   "metadata": {},
   "source": [
    "Note that the parents of the ephemeris points are assigned via `ephem_available_points` method. \n",
    "In fact, the comutational graph of points already has some parent-child relations:"
   ]
  },
  {
   "cell_type": "code",
   "execution_count": 18,
   "metadata": {},
   "outputs": [
    {
     "data": {
      "text/plain": [
       "FrameSystem{2, Float64, BarycentricDynamicalTime, CalcephProvider}(\n",
       "  eph: CalcephProvider(CALCEPH.Ephem(Ptr{Nothing} @0x00000000062a0210)),\n",
       "  points: \t \n",
       "\t SSB\n",
       "\t  ├── EMB \n",
       "\t   ├── Earth \n",
       "\t  ├── Sun \n",
       "\t \n",
       "  axes: \t\n",
       "\tICRF\n",
       "\t\n",
       ")\n"
      ]
     },
     "metadata": {},
     "output_type": "display_data"
    }
   ],
   "source": [
    "G"
   ]
  }
 ],
 "metadata": {
  "kernelspec": {
   "display_name": "Julia 1.8.4",
   "language": "julia",
   "name": "julia-1.8"
  },
  "language_info": {
   "file_extension": ".jl",
   "mimetype": "application/julia",
   "name": "julia",
   "version": "1.8.4"
  },
  "orig_nbformat": 4
 },
 "nbformat": 4,
 "nbformat_minor": 2
}
