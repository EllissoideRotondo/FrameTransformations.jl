{
 "cells": [
  {
   "attachments": {},
   "cell_type": "markdown",
   "metadata": {},
   "source": [
    "# [Reference frames creation and transformations](@id tutorial_06_frames)"
   ]
  },
  {
   "cell_type": "code",
   "execution_count": 12,
   "metadata": {},
   "outputs": [],
   "source": [
    "using Basic, ReferenceFrameRotations"
   ]
  },
  {
   "attachments": {},
   "cell_type": "markdown",
   "metadata": {},
   "source": [
    "## Introduction\n",
    "\n",
    "`Basic` provides the capability to create, expand and efficienty differentiate Frame Systems. \n",
    "A frame system allows you to compute the relative position and orientation of a registered object\n",
    "with respect to any other registered objects at any time. This includes time derivatives of motion\n",
    "up to order 3 (jerk) and well integrated with `ForwardDiff`, allowing to compute partial \n",
    "derivatives of motion with respect to _any_ parameter.\n",
    "\n",
    "`Frames` is a rather generic framework which can be extended and configured by the user. The Frame \n",
    "System, indeed, is the _ultimate goal_ of the `Basic` computational environment. Therefore, \n",
    "the aim of this tutorial is to provide an overview of the core functionalities of a Frame System \n",
    "together with some relevant informations relative to its structure and conceptual modeling, \n",
    "in such a way any user would be capable to understand, use and extend it in the proper way.\n",
    "\n",
    "## The `FrameSystem`\n",
    "\n",
    "The entry-point in the `Frames` computational environment, is the `FrameSystem` object. A \n",
    "`FrameSystem` manages a collection of points and axes in the form of `FramePointNode`s and \n",
    "`FrameAxesNode`s, respectively. These two kind of _nodes_, as you can see from the \n",
    "[Points Graphs Tutorial](@ref tutorial_04_points) and the [Axes Graphs Tutorial](@ref tutorial_05_axes),\n",
    "are organized in a graph form and represent two precise entities:\n",
    "\n",
    "- **Axes**: defines an orientation in space. These are related each other by means of a `Rotation` \n",
    "    transformation which relate one axes to a parent axes in a certain time interval.\n",
    "- **Points**: defines a location in space. These are related each other by means of a `Translation`\n",
    "    transformation which relate one point to a parent point in a particular axes in a certain \n",
    "    time interval.\n",
    "\n",
    "Any node can have several transformations defining their orientation or position with \n",
    "respect to other `FrameAxesNode` or `FramePointNode`, each applicable during a particular \n",
    "time period. Moreover, as you have seen in the dedicated tutorials:\n",
    "\n",
    "- Nodes can be **created** independently of each other (by means of `@axes` or `@point` macros).\n",
    "- They shall be **registered** within the `FrameSystem` to be used, connecting with a parent by\n",
    "    means of a transformation. This step can be usually performed by means of a dedicated method,\n",
    "    i.e. `add_axes_xxxx!` or `add_point_yyyy!`, where `xxxx` and `yyyy` shall be specified \n",
    "    depending on the particular axes or point type.\n",
    "\n",
    "!!! note\n",
    "    Don't confuse the concept of frame of reference and axes! In fact, while in general these\n",
    "    two concept are mixed together, they have a precise meaning within `Basic`:\n",
    "\n",
    "    - Axes define coordinate systems, which are a mathematical concept;\n",
    "    - A frame of reference is a physical concept related to the state of motion of something.\n",
    "\n",
    "    In practice, we use a _coordinate system_ to specify a frame of reference because it is \n",
    "    convenient from a computational perspective but to each frame of reference there should \n",
    "    in theory correspond a family of an infinite numbers of coordinate systems comoving \n",
    "    together. \n",
    "    \n",
    "    To clarify more, the velocity of a point with respect to a physical three-dimensional \n",
    "    body is an absolute concept (in Newtonian mechanics) but to express it as a set of 3 \n",
    "    components we need to choose a coordinate system. A natural choice is to use a \n",
    "    coordinate system comoving with that body but it is also possible to use a coordinate \n",
    "    system rotating with respect to that body.\n",
    "\n",
    "    It is normal to express quantities computed in a particular frame of reference in a \n",
    "    different coordinate system. For example, one might solve the motion of spacecraft in \n",
    "    an inertial frame of reference centered on the Earth, but express its velocity coordinates \n",
    "    along axes rotating with the Earth. This is not the same as computing the velocity \n",
    "    of the spacecraft in the Earth rotating system."
   ]
  },
  {
   "attachments": {},
   "cell_type": "markdown",
   "metadata": {},
   "source": [
    "# Use Case: HiFi"
   ]
  },
  {
   "attachments": {},
   "cell_type": "markdown",
   "metadata": {},
   "source": [
    "Once the general structure of the `FrameSystem` is understood, we can pass to a use case in which\n",
    "we want to build and exploit our computational graph collection to perform some computations."
   ]
  },
  {
   "attachments": {},
   "cell_type": "markdown",
   "metadata": {},
   "source": [
    "## Creating an empty `FrameSystem`\n",
    "\n",
    "The initial step is usually to create an empty `FrameSystem` object. Note that, depending\n",
    "on the specific application, you might require or not the use of an ephemeris provider.\n",
    "In this example we assume to be working in a high-fidelity environment and to load some ephemeris\n",
    "via the `Calceph` interface:"
   ]
  },
  {
   "cell_type": "code",
   "execution_count": 13,
   "metadata": {},
   "outputs": [
    {
     "data": {
      "text/plain": [
       "CalcephProvider(CALCEPH.Ephem(Ptr{Nothing} @0x00000000061ec350))"
      ]
     },
     "metadata": {},
     "output_type": "display_data"
    }
   ],
   "source": [
    "# Load ephemeris to memory\n",
    "eph = ephem_load(\n",
    "    CalcephProvider, \n",
    "    [\n",
    "        \"/home/andrea/Documents/SpiceKernels/spk/de440.bsp\", \n",
    "        \"/home/andrea/Documents/SpiceKernels/pck/moon_pa_de440_200625.bpc\"\n",
    "    ]\n",
    ")"
   ]
  },
  {
   "attachments": {},
   "cell_type": "markdown",
   "metadata": {},
   "source": [
    "At this point we are ready to create the empty instance of our `FrameSystem`:"
   ]
  },
  {
   "cell_type": "code",
   "execution_count": 14,
   "metadata": {},
   "outputs": [
    {
     "name": "stderr",
     "output_type": "stream",
     "text": [
      "WARNING: redefinition of constant FRAMES. This may fail, cause incorrect answers, or produce other errors.\n"
     ]
    },
    {
     "data": {
      "text/plain": [
       "FrameSystem{2, Float64, BarycentricDynamicalTime, CalcephProvider}(\n",
       "  eph: CalcephProvider(CALCEPH.Ephem(Ptr{Nothing} @0x00000000061ec350)),\n",
       "  points: EMPTY\n",
       "  axes: EMPTY\n",
       ")\n"
      ]
     },
     "metadata": {},
     "output_type": "display_data"
    }
   ],
   "source": [
    "const FRAMES = FrameSystem{2, Float64}(eph)"
   ]
  },
  {
   "attachments": {},
   "cell_type": "markdown",
   "metadata": {},
   "source": [
    "## Registering root axes & points"
   ]
  },
  {
   "attachments": {},
   "cell_type": "markdown",
   "metadata": {},
   "source": [
    "Once the graph has been created, the root axes shall be assigned. This shall be an **inertial** axes. \n",
    "In this case we consider the `GCRF`:"
   ]
  },
  {
   "cell_type": "code",
   "execution_count": 15,
   "metadata": {},
   "outputs": [],
   "source": [
    "# Create the new axes \n",
    "@axes GCRF 1 GeocentricCelestialReferenceFrame\n",
    "\n",
    "# Register the new axes in the graph as root axes\n",
    "add_axes_inertial!(FRAMES, GCRF)"
   ]
  },
  {
   "attachments": {},
   "cell_type": "markdown",
   "metadata": {},
   "source": [
    "The axes here called `GCRF` is practically coincident with the `ICRF` axes and with the \n",
    "so called `ECI` frame. For that reason, let's create an alias of `GCRF` and call it `ICRF`. \n",
    "To do so we can register a zero-offset inertial axes (i.e. using identity matrix). Note that\n",
    "the same can be achieved using a `fixed-offset` set of axes."
   ]
  },
  {
   "cell_type": "code",
   "execution_count": 16,
   "metadata": {},
   "outputs": [],
   "source": [
    "# Create the new axes \n",
    "@axes ICRF 2 InternationalCelestialReferenceFrame \n",
    "\n",
    "# Register the new axes in the graph as root axes\n",
    "add_axes_inertial!(FRAMES, ICRF, parent=GCRF, dcm=DCM(1.0I))"
   ]
  },
  {
   "attachments": {},
   "cell_type": "markdown",
   "metadata": {},
   "source": [
    "Now, we assume we are working within the Cislunar environment, i.e. we want to insert the \n",
    "`Earth`, `Moon` and `Sun` bodies in the simulation considering the `Sun` the parent of the `Earth`, \n",
    "and the `Earth` the parent of the `Moon`. We want to use the `Earth` as root point as the `GCRF` \n",
    "is centered on it."
   ]
  },
  {
   "cell_type": "code",
   "execution_count": 17,
   "metadata": {},
   "outputs": [],
   "source": [
    "# Create the points \n",
    "@point Earth 399 \n",
    "@point Sun 10 \n",
    "@point Moon 301\n",
    "\n",
    "# Register the root node \n",
    "add_point_root!(FRAMES, Earth, GCRF)\n",
    "# Register the other nodes \n",
    "add_point_ephemeris!(FRAMES, Sun, Earth)\n",
    "add_point_ephemeris!(FRAMES, Moon, Earth)"
   ]
  },
  {
   "attachments": {},
   "cell_type": "markdown",
   "metadata": {},
   "source": [
    "## Registering Earth and Lunar body axes"
   ]
  },
  {
   "attachments": {},
   "cell_type": "markdown",
   "metadata": {},
   "source": [
    "At this point, we want to be able to transform back and forth from body-fixed axes of the Earth \n",
    "and the Moon to the `GCRF`. The Earth and the Moon cases are actually _special cases_ because\n",
    "the `Basic` computational environment provides the possibility to create both low and high \n",
    "precision frames. Let's start with the low precision one: `IAU_EARTH` and `IAU_MOON`.\n",
    "\n",
    "To register such frames, we first need to parse a `.tcp` file with the required constants:"
   ]
  },
  {
   "cell_type": "code",
   "execution_count": 18,
   "metadata": {},
   "outputs": [],
   "source": [
    "iau = Basic.load(TPC(\"/home/andrea/Documents/SpiceKernels/pck/pck00010.tpc\"));"
   ]
  },
  {
   "attachments": {},
   "cell_type": "markdown",
   "metadata": {},
   "source": [
    "And then create the new axes. Remember, there shall be associated to a `ICRF` frame from \n",
    "definition. \n",
    "\n",
    "There are actually different axes which can be created starting from IAU Rotational Elements, \n",
    "in this case we are interested in Body-Centric Rotating, True-of-Date axes, or BCR-TOD (which \n",
    "are the `Basic` way of representing SPICE `IAU_XXX` axes)."
   ]
  },
  {
   "cell_type": "code",
   "execution_count": 19,
   "metadata": {},
   "outputs": [
    {
     "name": "stderr",
     "output_type": "stream",
     "text": [
      "┌ Warning: ignoring orient_axes_dd_icrf_to_bcr_tod_Earth, frame system order is less than 3\n",
      "└ @ Basic.Frames /home/andrea/.julia/dev/Basic/src/Frames/axes.jl:374\n",
      "┌ Warning: ignoring orient_axes_dd_icrf_to_bcr_tod_Moon, frame system order is less than 3\n",
      "└ @ Basic.Frames /home/andrea/.julia/dev/Basic/src/Frames/axes.jl:374\n"
     ]
    }
   ],
   "source": [
    "# Create new axes \n",
    "@axes IAU_EARTH 3 \n",
    "@axes IAU_MOON 4\n",
    "\n",
    "# Register the new axes \n",
    "add_axes_bcrtod!(FRAMES, iau, Earth, IAU_EARTH, ICRF);\n",
    "add_axes_bcrtod!(FRAMES, iau, Moon, IAU_MOON, ICRF);"
   ]
  },
  {
   "attachments": {},
   "cell_type": "markdown",
   "metadata": {},
   "source": [
    "Now let us insert also an inertial axes for the Moon, for convenience. This can be done using \n",
    "the IAU-based Body-Centric Inertial J2000 axes available in `Basic`, which a brings from `ICRF` to\n",
    "the local equatorial plane of the body at J2000 epoch."
   ]
  },
  {
   "cell_type": "code",
   "execution_count": 20,
   "metadata": {},
   "outputs": [],
   "source": [
    "# Create new axes \n",
    "@axes LME2000 5\n",
    "\n",
    "# Register the new axes \n",
    "add_axes_bci2000!(FRAMES, iau, Moon, LME2000, ICRF);"
   ]
  },
  {
   "attachments": {},
   "cell_type": "markdown",
   "metadata": {},
   "source": [
    "At this point, to conclude the graph, we want insert the high-precision Earth and Lunar body\n",
    "axes. For the former, we can exploit `ITRF` axes for that purpose. For the latter, `PA440` ones."
   ]
  },
  {
   "cell_type": "code",
   "execution_count": 21,
   "metadata": {},
   "outputs": [
    {
     "name": "stderr",
     "output_type": "stream",
     "text": [
      "┌ Warning: ignoring #154, frame system order is less than 3\n",
      "└ @ Basic.Frames /home/andrea/.julia/dev/Basic/src/Frames/axes.jl:374\n",
      "┌ Warning: ignoring #155, frame system order is less than 4\n",
      "└ @ Basic.Frames /home/andrea/.julia/dev/Basic/src/Frames/axes.jl:374\n"
     ]
    }
   ],
   "source": [
    "# Create new axes \n",
    "@axes ITRF 6 \n",
    "@axes MOONPA_DE440 31008 \n",
    "\n",
    "# Register the new axes\n",
    "add_axes_itrf!(FRAMES, ITRF, GCRF) # default IAUModel is iau2006b\n",
    "add_axes_pa440!(FRAMES, MOONPA_DE440, ICRF)"
   ]
  },
  {
   "attachments": {},
   "cell_type": "markdown",
   "metadata": {},
   "source": [
    "# Use Case: CR3BP"
   ]
  }
 ],
 "metadata": {
  "kernelspec": {
   "display_name": "Julia 1.8.4",
   "language": "julia",
   "name": "julia-1.8"
  },
  "language_info": {
   "file_extension": ".jl",
   "mimetype": "application/julia",
   "name": "julia",
   "version": "1.8.4"
  },
  "orig_nbformat": 4,
  "vscode": {
   "interpreter": {
    "hash": "916dbcbb3f70747c44a77c7bcd40155683ae19c65e1c03b4aa3499c5328201f1"
   }
  }
 },
 "nbformat": 4,
 "nbformat_minor": 2
}
